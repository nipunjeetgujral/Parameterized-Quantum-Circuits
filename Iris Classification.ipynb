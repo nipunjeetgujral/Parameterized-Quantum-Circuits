{
 "cells": [
  {
   "cell_type": "code",
   "execution_count": 34,
   "id": "4b7234eb",
   "metadata": {},
   "outputs": [],
   "source": [
    "import numpy as np\n",
    "from sklearn import model_selection, datasets, svm\n",
    "from qiskit import QuantumCircuit, Aer, QuantumRegister, ClassicalRegister, execute\n",
    "import matplotlib.pyplot as plt\n",
    "import copy"
   ]
  },
  {
   "cell_type": "code",
   "execution_count": 37,
   "id": "b0dd2a54",
   "metadata": {},
   "outputs": [],
   "source": [
    "def initilialize_circuit(N):\n",
    "    \n",
    "    q = QuantumRegister(N)\n",
    "    c = ClassicalRegister(1)\n",
    "    qc = QuantumCircuit(q,c)\n",
    "    \n",
    "    return qc, c "
   ]
  },
  {
   "cell_type": "code",
   "execution_count": 38,
   "id": "13611957",
   "metadata": {},
   "outputs": [],
   "source": [
    "def feature_map(qc, X):\n",
    "    \n",
    "    for i, x in enumerate(X): qc.rx(x, i)\n",
    "        \n",
    "    return qc     "
   ]
  },
  {
   "cell_type": "code",
   "execution_count": 39,
   "id": "ebd79574",
   "metadata": {},
   "outputs": [],
   "source": [
    "def variational_circuit(qc, theta, N):\n",
    "    \n",
    "    for i in range(N-1):\n",
    "        qc.cx(i, i+1)\n",
    "    \n",
    "    qc.cx(N-1, 0)\n",
    "    \n",
    "    for i in range(N):\n",
    "        qc.ry(theta[i], i)\n",
    "        \n",
    "    return qc     "
   ]
  },
  {
   "cell_type": "code",
   "execution_count": 40,
   "id": "0886d37b",
   "metadata": {},
   "outputs": [],
   "source": [
    "def quantum_nn(X, theta, N, simulator=True, shots=1e4):\n",
    "    qc,c = initilialize_circuit(N)\n",
    "    qc = feature_map(qc, X)\n",
    "    qc.barrier()\n",
    "    qc = variational_circuit(qc, theta, N)\n",
    "    qc.barrier()\n",
    "    qc.measure(0,c)\n",
    "    qc.draw('mpl')\n",
    "    \n",
    "    backend = Aer.get_backend('qasm_simulator')\n",
    "    jobs = execute(qc, backend, shots=shots)\n",
    "    result = jobs.result()\n",
    "    counts = result.get_counts(qc)\n",
    "\n",
    "    return counts['1']/shots"
   ]
  },
  {
   "cell_type": "code",
   "execution_count": 41,
   "id": "472c921f",
   "metadata": {},
   "outputs": [],
   "source": [
    "def loss_fn(pred, target): return (pred-target)**2"
   ]
  },
  {
   "cell_type": "code",
   "execution_count": 42,
   "id": "2b895680",
   "metadata": {},
   "outputs": [],
   "source": [
    "def gradient(X, Y, theta, N):\n",
    "    delta=0.01\n",
    "    grad=[]\n",
    "\n",
    "    for i in range(len(theta)):\n",
    "        dtheta = copy.copy(theta)\n",
    "        dtheta[i] += delta\n",
    "\n",
    "        pred1 = quantum_nn(X, dtheta, N)\n",
    "        pred2 = quantum_nn(X, theta, N)\n",
    "\n",
    "        grad.append((loss_fn(pred1, Y)-loss_fn(pred2, Y))/delta)\n",
    "\n",
    "    return np.array(grad)"
   ]
  },
  {
   "cell_type": "code",
   "execution_count": 43,
   "id": "05d70671",
   "metadata": {},
   "outputs": [],
   "source": [
    "def accuracy(X, Y, theta, N):\n",
    "    counter = 0\n",
    "\n",
    "    for X_i, Y_i in zip(X, Y):\n",
    "        prediction = quantum_nn(X_i, theta, N)\n",
    "\n",
    "        if prediction < 0.5 and Y_i==0:\n",
    "            counter += 1\n",
    "        if prediction >= 0.5 and Y_i==1:\n",
    "            counter += 1\n",
    "\n",
    "    return counter/len(Y)"
   ]
  },
  {
   "cell_type": "code",
   "execution_count": null,
   "id": "aff735b7",
   "metadata": {},
   "outputs": [],
   "source": [
    "iris = datasets.load_iris()\n",
    "\n",
    "X = iris['data'][:100]\n",
    "Y = iris['target'][:100]\n",
    "\n",
    "X_train, X_test, Y_train, Y_test = model_selection.train_test_split(\n",
    "    X,\n",
    "    Y,\n",
    "    test_size=0.33,\n",
    "    random_state=42\n",
    ")"
   ]
  },
  {
   "cell_type": "code",
   "execution_count": null,
   "id": "653586e0",
   "metadata": {},
   "outputs": [],
   "source": [
    "n_qubits = X.shape[1]\n",
    "print(f\"Numer of Qubits = Number of Features: {n_qubits}\")"
   ]
  },
  {
   "cell_type": "code",
   "execution_count": 44,
   "id": "1469c2d9",
   "metadata": {},
   "outputs": [
    {
     "name": "stdout",
     "output_type": "stream",
     "text": [
      "Epoch \t Loss \t Accuracy\n",
      "0 \t 0.269 \t 0.776\n",
      "1 \t 0.228 \t 0.866\n",
      "2 \t 0.225 \t 0.836\n",
      "3 \t 0.231 \t 0.821\n",
      "4 \t 0.218 \t 0.866\n",
      "5 \t 0.217 \t 0.836\n",
      "6 \t 0.213 \t 0.806\n",
      "7 \t 0.215 \t 0.791\n",
      "8 \t 0.209 \t 0.851\n",
      "9 \t 0.207 \t 0.806\n",
      "10 \t 0.208 \t 0.791\n",
      "11 \t 0.213 \t 0.806\n"
     ]
    }
   ],
   "source": [
    "lr = 0.05\n",
    "loss_list = []\n",
    "epochs = 12\n",
    "theta = np.ones(n_qubits)\n",
    "\n",
    "print('Epoch \\t Loss \\t Accuracy')\n",
    "\n",
    "for i in range(epochs):\n",
    "    \n",
    "    loss_tmp = []\n",
    "    \n",
    "    for X_i, Y_i in zip(X_train, Y_train):\n",
    "        pred = quantum_nn(X_i, theta, N = n_qubits)\n",
    "        loss_tmp.append(loss_fn(pred, Y_i))\n",
    "        theta = theta-lr*gradient(X_i, Y_i, theta, N=n_qubits)\n",
    "\n",
    "    loss_list.append(np.mean(loss_tmp))\n",
    "    acc = accuracy(X_train, Y_train, theta, N=n_qubits)\n",
    "\n",
    "    print(f'{i} \\t {loss_list[-1]:.3f} \\t {acc:.3f}')\n",
    "     "
   ]
  },
  {
   "cell_type": "code",
   "execution_count": 45,
   "id": "46ccfcd0",
   "metadata": {},
   "outputs": [
    {
     "data": {
      "text/plain": [
       "0.7272727272727273"
      ]
     },
     "execution_count": 45,
     "metadata": {},
     "output_type": "execute_result"
    }
   ],
   "source": [
    "accuracy(X_test, Y_test, theta, N = n_qubits)"
   ]
  }
 ],
 "metadata": {
  "kernelspec": {
   "display_name": "Python 3 (ipykernel)",
   "language": "python",
   "name": "python3"
  },
  "language_info": {
   "codemirror_mode": {
    "name": "ipython",
    "version": 3
   },
   "file_extension": ".py",
   "mimetype": "text/x-python",
   "name": "python",
   "nbconvert_exporter": "python",
   "pygments_lexer": "ipython3",
   "version": "3.9.12"
  }
 },
 "nbformat": 4,
 "nbformat_minor": 5
}
